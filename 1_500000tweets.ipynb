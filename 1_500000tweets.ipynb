{
 "metadata": {
  "language_info": {
   "codemirror_mode": {
    "name": "ipython",
    "version": 3
   },
   "file_extension": ".py",
   "mimetype": "text/x-python",
   "name": "python",
   "nbconvert_exporter": "python",
   "pygments_lexer": "ipython3",
   "version": "3.9.0-final"
  },
  "orig_nbformat": 2,
  "kernelspec": {
   "name": "python3",
   "display_name": "Python 3.9.0 64-bit",
   "metadata": {
    "interpreter": {
     "hash": "3898892d7e34557bb8499aff9aa0ccd3bf7bab375649613f01d0952879e4c360"
    }
   }
  }
 },
 "nbformat": 4,
 "nbformat_minor": 2,
 "cells": [
  {
   "cell_type": "code",
   "execution_count": 1,
   "metadata": {},
   "outputs": [],
   "source": [
    "import pandas as pd\n",
    "from plotnine import *"
   ]
  },
  {
   "cell_type": "code",
   "execution_count": 2,
   "metadata": {},
   "outputs": [],
   "source": [
    "header_list = [\"TweetID\",\"Username\",\"Datetime\",#(\"EEE MMM dd HH:mm:ss Z yyyy\")\n",
    "\"Followers\",\"Friends\",\"Retweets\",\"Favorites\",\"Entities\",\"Sentiment\",\"Mentions\",\"Hashtags\",\"URL\"]\n",
    "df = pd.read_csv(\"data/TweetsCOV19.tsv\", sep='\\t', error_bad_lines=False, names=header_list)\n",
    "df['Datetime'] = pd.to_datetime(df['Datetime'], format='%a %b %d %X %z %Y')"
   ]
  },
  {
   "cell_type": "code",
   "execution_count": 3,
   "metadata": {},
   "outputs": [],
   "source": [
    "df.sample(200040).to_csv(\"data/500000tweets.tsv\",index = False, sep='\\t')"
   ]
  },
  {
   "cell_type": "code",
   "execution_count": null,
   "metadata": {},
   "outputs": [],
   "source": []
  }
 ]
}