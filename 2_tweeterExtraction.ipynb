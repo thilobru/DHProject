{
 "metadata": {
  "language_info": {
   "codemirror_mode": {
    "name": "ipython",
    "version": 3
   },
   "file_extension": ".py",
   "mimetype": "text/x-python",
   "name": "python",
   "nbconvert_exporter": "python",
   "pygments_lexer": "ipython3",
   "version": "3.9.0-final"
  },
  "orig_nbformat": 2,
  "kernelspec": {
   "name": "python3",
   "display_name": "Python 3.9.0 64-bit",
   "metadata": {
    "interpreter": {
     "hash": "3898892d7e34557bb8499aff9aa0ccd3bf7bab375649613f01d0952879e4c360"
    }
   }
  }
 },
 "nbformat": 4,
 "nbformat_minor": 2,
 "cells": [
  {
   "cell_type": "code",
   "execution_count": 1,
   "metadata": {},
   "outputs": [],
   "source": [
    "import tweepy\n",
    "import pandas as pd\n",
    "import json\n",
    "from io import StringIO\n",
    "\n",
    "  \n",
    "# assign the values accordingly \n",
    "consumer_key = \"Bitte selbst ausfüllen!\" \n",
    "consumer_secret = \"Bitte selbst ausfüllen!\" \n",
    "access_token = \"Bitte selbst ausfüllen!\" \n",
    "access_token_secret = \"Bitte selbst ausfüllen!\""
   ]
  },
  {
   "cell_type": "code",
   "execution_count": 3,
   "metadata": {
    "tags": []
   },
   "outputs": [
    {
     "output_type": "stream",
     "name": "stderr",
     "text": [
      "Rate limit reached. Sleeping for: 310\n",
      "Rate limit reached. Sleeping for: 318\n"
     ]
    }
   ],
   "source": [
    "#https://stackoverflow.com/questions/44581647/retrieving-a-list-of-tweets-using-tweet-id-in-tweepy\n",
    "def lookup_tweets(tweet_IDs, api):\n",
    "    full_tweets = []\n",
    "    tweet_count = len(tweet_IDs)\n",
    "    try:\n",
    "        for i in range(int((tweet_count / 100) + 1)):\n",
    "            # Catch the last group if it is less than 100 tweets\n",
    "            end_loc = min((i + 1) * 100, tweet_count)\n",
    "            full_tweets.extend(\n",
    "                api.statuses_lookup(id_=tweet_IDs[i * 100:end_loc], tweet_mode=\"extended\")\n",
    "            )\n",
    "        return full_tweets\n",
    "    except tweepy.TweepError:\n",
    "        print('Something went wrong, quitting...')\n",
    "\n",
    "auth = tweepy.OAuthHandler(consumer_key, consumer_secret)\n",
    "auth.set_access_token(access_token, access_token_secret)\n",
    "\n",
    "api = tweepy.API(auth, wait_on_rate_limit=True, wait_on_rate_limit_notify=True)\n",
    "\n",
    "# do whatever it is to get ids to where df.TweetID is - the list of all IDs to look up\n",
    "df = pd.read_csv(\"data/500000tweets.tsv\", sep='\\t')\n",
    "good_tweet_ids = [i for i in df.TweetID] #tweet ids to look up \n",
    "\n",
    "results = lookup_tweets(good_tweet_ids, api) #apply function"
   ]
  },
  {
   "cell_type": "code",
   "execution_count": 4,
   "metadata": {
    "tags": []
   },
   "outputs": [],
   "source": [
    "temp = json.dumps([status._json for status in results]) #create JSON\n",
    "newdf = pd.read_json(StringIO(temp))\n",
    "#newdf = pd.read_json(temp, orient='records')\n",
    "full = pd.merge(df, newdf, left_on='TweetID', right_on='id', how='right').drop('id', axis=1)\n",
    "\n",
    "selectionString = ['TweetID', 'Datetime', 'Followers', 'favorite_count', 'retweet_count', 'Sentiment', 'full_text']\n",
    "full['full_text'] = full['full_text'].str.replace('\\n',' ')\n",
    "full['full_text'] = full['full_text'].str.replace('\\r',' ')\n",
    "full[selectionString].to_csv(\"data/500000TweetsHydrated.tsv\",index = False,sep='\\t',line_terminator='\\r\\n')"
   ]
  },
  {
   "cell_type": "code",
   "execution_count": null,
   "metadata": {},
   "outputs": [],
   "source": []
  }
 ]
}