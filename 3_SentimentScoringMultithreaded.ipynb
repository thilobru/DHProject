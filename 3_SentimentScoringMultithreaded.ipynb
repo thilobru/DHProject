{
 "metadata": {
  "language_info": {
   "codemirror_mode": {
    "name": "ipython",
    "version": 3
   },
   "file_extension": ".py",
   "mimetype": "text/x-python",
   "name": "python",
   "nbconvert_exporter": "python",
   "pygments_lexer": "ipython3",
   "version": "3.9.0-final"
  },
  "orig_nbformat": 2,
  "kernelspec": {
   "name": "python3",
   "display_name": "Python 3.9.0 64-bit",
   "metadata": {
    "interpreter": {
     "hash": "3898892d7e34557bb8499aff9aa0ccd3bf7bab375649613f01d0952879e4c360"
    }
   }
  }
 },
 "nbformat": 4,
 "nbformat_minor": 2,
 "cells": [
  {
   "cell_type": "code",
   "execution_count": 3,
   "metadata": {},
   "outputs": [],
   "source": [
    "import spacy\n",
    "import pandas as pd\n",
    "from afinn import Afinn\n",
    "import numpy as np\n",
    "\n",
    "nlp = spacy.load(\"en_core_web_md\")\n",
    "\n",
    "afinn_df = pd.read_csv(\"data/AFINN-en-165.tsv\", sep=\"\\t\", header=None, names=[\"word\", \"score\"])\n",
    "#afinn_df\n",
    "afinn = Afinn()\n",
    "\n",
    "vad_df = pd.read_csv(\"data/NRC-VAD-Lexicon.tsv\", sep=\"\\t\")\n",
    "#vad_df"
   ]
  },
  {
   "cell_type": "code",
   "execution_count": 5,
   "metadata": {},
   "outputs": [],
   "source": [
    "afinn_scores = dict(zip(afinn_df[\"word\"], afinn_df[\"score\"]))\n",
    "#afinn_scores[\"yummy\"]\n",
    "def afinn_score(text):\n",
    "    return sum(afinn_scores.get(t.lemma_, 0) for t in nlp(text))\n",
    "\n",
    "word_valence = dict(zip(vad_df[\"Word\"], vad_df[\"Valence\"]))\n",
    "word_arousal = dict(zip(vad_df[\"Word\"], vad_df[\"Arousal\"]))\n",
    "word_dminanc = dict(zip(vad_df[\"Word\"], vad_df[\"Dominance\"]))\n",
    "\n",
    "def text_valence(text, agg=sum):\n",
    "    return agg([word_valence.get(t.lemma_, 0) for t in nlp(text)])\n",
    "\n",
    "def text_arousal(text, agg=sum):\n",
    "    return agg([word_arousal.get(t.lemma_, 0) for t in nlp(text)])\n",
    "\n",
    "def text_dminanc(text, agg=sum):\n",
    "    return agg([word_dminanc.get(t.lemma_, 0) for t in nlp(text)])"
   ]
  },
  {
   "cell_type": "code",
   "execution_count": 6,
   "metadata": {
    "tags": []
   },
   "outputs": [],
   "source": [
    "tweetDf = pd.read_csv(\"data/500000tweetshydrated.tsv\", sep=\"\\t\")\n",
    "tweetDf[\"full_text\"] = tweetDf[\"full_text\"].astype(\"string\")\n",
    "#tweetDf.dtypes\n",
    "#print(tweetDf.full_text)\n",
    "#tweetDf[\"wordList\"] = wordList(tweetDf[\"full_text\"].tolist())"
   ]
  },
  {
   "cell_type": "code",
   "execution_count": 7,
   "metadata": {
    "tags": []
   },
   "outputs": [
    {
     "output_type": "error",
     "ename": "TypeError",
     "evalue": "'int' object is not subscriptable",
     "traceback": [
      "\u001b[1;31m---------------------------------------------------------------------------\u001b[0m",
      "\u001b[1;31mTypeError\u001b[0m                                 Traceback (most recent call last)",
      "\u001b[1;32m<ipython-input-7-530281a6b89c>\u001b[0m in \u001b[0;36m<module>\u001b[1;34m\u001b[0m\n\u001b[0;32m     15\u001b[0m \u001b[1;32mfor\u001b[0m \u001b[0mindex\u001b[0m\u001b[1;33m,\u001b[0m \u001b[0mrow\u001b[0m \u001b[1;32min\u001b[0m \u001b[0mtweetDf\u001b[0m\u001b[1;33m.\u001b[0m\u001b[0miterrows\u001b[0m\u001b[1;33m(\u001b[0m\u001b[1;33m)\u001b[0m\u001b[1;33m:\u001b[0m\u001b[1;33m\u001b[0m\u001b[1;33m\u001b[0m\u001b[0m\n\u001b[0;32m     16\u001b[0m     \u001b[1;31m#print(row['full_text'], afinn.score(row['full_text']))\u001b[0m\u001b[1;33m\u001b[0m\u001b[1;33m\u001b[0m\u001b[1;33m\u001b[0m\u001b[0m\n\u001b[1;32m---> 17\u001b[1;33m     \u001b[0mscore\u001b[0m \u001b[1;33m=\u001b[0m \u001b[0mpool\u001b[0m\u001b[1;33m.\u001b[0m\u001b[0mmap\u001b[0m\u001b[1;33m(\u001b[0m\u001b[0mcalc\u001b[0m\u001b[1;33m,\u001b[0m \u001b[0mrow\u001b[0m\u001b[1;33m)\u001b[0m\u001b[1;33m\u001b[0m\u001b[1;33m\u001b[0m\u001b[0m\n\u001b[0m\u001b[0;32m     18\u001b[0m     \u001b[0mcounting\u001b[0m\u001b[1;33m+=\u001b[0m\u001b[1;36m1\u001b[0m\u001b[1;33m\u001b[0m\u001b[1;33m\u001b[0m\u001b[0m\n\u001b[0;32m     19\u001b[0m     \u001b[1;32mif\u001b[0m \u001b[1;33m(\u001b[0m\u001b[0mcounting\u001b[0m \u001b[1;33m%\u001b[0m \u001b[1;36m1000\u001b[0m \u001b[1;33m==\u001b[0m \u001b[1;36m0\u001b[0m\u001b[1;33m)\u001b[0m\u001b[1;33m:\u001b[0m \u001b[0mprint\u001b[0m\u001b[1;33m(\u001b[0m\u001b[0mcounting\u001b[0m\u001b[1;33m/\u001b[0m\u001b[0mlen\u001b[0m\u001b[1;33m(\u001b[0m\u001b[0mtweetDf\u001b[0m\u001b[1;33m.\u001b[0m\u001b[0mindex\u001b[0m\u001b[1;33m)\u001b[0m\u001b[1;33m*\u001b[0m\u001b[1;36m100\u001b[0m\u001b[1;33m,\u001b[0m \u001b[1;34m'%,'\u001b[0m\u001b[1;33m,\u001b[0m \u001b[0mcounting\u001b[0m\u001b[1;33m,\u001b[0m \u001b[1;34m'/'\u001b[0m\u001b[1;33m,\u001b[0m \u001b[0mlen\u001b[0m\u001b[1;33m(\u001b[0m\u001b[0mtweetDf\u001b[0m\u001b[1;33m.\u001b[0m\u001b[0mindex\u001b[0m\u001b[1;33m)\u001b[0m\u001b[1;33m)\u001b[0m\u001b[1;33m\u001b[0m\u001b[1;33m\u001b[0m\u001b[0m\n",
      "\u001b[1;32m~\\AppData\\Local\\Programs\\Python\\Python39\\lib\\multiprocessing\\pool.py\u001b[0m in \u001b[0;36mmap\u001b[1;34m(self, func, iterable, chunksize)\u001b[0m\n\u001b[0;32m    362\u001b[0m         \u001b[1;32min\u001b[0m \u001b[0ma\u001b[0m \u001b[0mlist\u001b[0m \u001b[0mthat\u001b[0m \u001b[1;32mis\u001b[0m \u001b[0mreturned\u001b[0m\u001b[1;33m.\u001b[0m\u001b[1;33m\u001b[0m\u001b[1;33m\u001b[0m\u001b[0m\n\u001b[0;32m    363\u001b[0m         '''\n\u001b[1;32m--> 364\u001b[1;33m         \u001b[1;32mreturn\u001b[0m \u001b[0mself\u001b[0m\u001b[1;33m.\u001b[0m\u001b[0m_map_async\u001b[0m\u001b[1;33m(\u001b[0m\u001b[0mfunc\u001b[0m\u001b[1;33m,\u001b[0m \u001b[0miterable\u001b[0m\u001b[1;33m,\u001b[0m \u001b[0mmapstar\u001b[0m\u001b[1;33m,\u001b[0m \u001b[0mchunksize\u001b[0m\u001b[1;33m)\u001b[0m\u001b[1;33m.\u001b[0m\u001b[0mget\u001b[0m\u001b[1;33m(\u001b[0m\u001b[1;33m)\u001b[0m\u001b[1;33m\u001b[0m\u001b[1;33m\u001b[0m\u001b[0m\n\u001b[0m\u001b[0;32m    365\u001b[0m \u001b[1;33m\u001b[0m\u001b[0m\n\u001b[0;32m    366\u001b[0m     \u001b[1;32mdef\u001b[0m \u001b[0mstarmap\u001b[0m\u001b[1;33m(\u001b[0m\u001b[0mself\u001b[0m\u001b[1;33m,\u001b[0m \u001b[0mfunc\u001b[0m\u001b[1;33m,\u001b[0m \u001b[0miterable\u001b[0m\u001b[1;33m,\u001b[0m \u001b[0mchunksize\u001b[0m\u001b[1;33m=\u001b[0m\u001b[1;32mNone\u001b[0m\u001b[1;33m)\u001b[0m\u001b[1;33m:\u001b[0m\u001b[1;33m\u001b[0m\u001b[1;33m\u001b[0m\u001b[0m\n",
      "\u001b[1;32m~\\AppData\\Local\\Programs\\Python\\Python39\\lib\\multiprocessing\\pool.py\u001b[0m in \u001b[0;36mget\u001b[1;34m(self, timeout)\u001b[0m\n\u001b[0;32m    769\u001b[0m             \u001b[1;32mreturn\u001b[0m \u001b[0mself\u001b[0m\u001b[1;33m.\u001b[0m\u001b[0m_value\u001b[0m\u001b[1;33m\u001b[0m\u001b[1;33m\u001b[0m\u001b[0m\n\u001b[0;32m    770\u001b[0m         \u001b[1;32melse\u001b[0m\u001b[1;33m:\u001b[0m\u001b[1;33m\u001b[0m\u001b[1;33m\u001b[0m\u001b[0m\n\u001b[1;32m--> 771\u001b[1;33m             \u001b[1;32mraise\u001b[0m \u001b[0mself\u001b[0m\u001b[1;33m.\u001b[0m\u001b[0m_value\u001b[0m\u001b[1;33m\u001b[0m\u001b[1;33m\u001b[0m\u001b[0m\n\u001b[0m\u001b[0;32m    772\u001b[0m \u001b[1;33m\u001b[0m\u001b[0m\n\u001b[0;32m    773\u001b[0m     \u001b[1;32mdef\u001b[0m \u001b[0m_set\u001b[0m\u001b[1;33m(\u001b[0m\u001b[0mself\u001b[0m\u001b[1;33m,\u001b[0m \u001b[0mi\u001b[0m\u001b[1;33m,\u001b[0m \u001b[0mobj\u001b[0m\u001b[1;33m)\u001b[0m\u001b[1;33m:\u001b[0m\u001b[1;33m\u001b[0m\u001b[1;33m\u001b[0m\u001b[0m\n",
      "\u001b[1;32m~\\AppData\\Local\\Programs\\Python\\Python39\\lib\\multiprocessing\\pool.py\u001b[0m in \u001b[0;36mworker\u001b[1;34m(inqueue, outqueue, initializer, initargs, maxtasks, wrap_exception)\u001b[0m\n\u001b[0;32m    123\u001b[0m         \u001b[0mjob\u001b[0m\u001b[1;33m,\u001b[0m \u001b[0mi\u001b[0m\u001b[1;33m,\u001b[0m \u001b[0mfunc\u001b[0m\u001b[1;33m,\u001b[0m \u001b[0margs\u001b[0m\u001b[1;33m,\u001b[0m \u001b[0mkwds\u001b[0m \u001b[1;33m=\u001b[0m \u001b[0mtask\u001b[0m\u001b[1;33m\u001b[0m\u001b[1;33m\u001b[0m\u001b[0m\n\u001b[0;32m    124\u001b[0m         \u001b[1;32mtry\u001b[0m\u001b[1;33m:\u001b[0m\u001b[1;33m\u001b[0m\u001b[1;33m\u001b[0m\u001b[0m\n\u001b[1;32m--> 125\u001b[1;33m             \u001b[0mresult\u001b[0m \u001b[1;33m=\u001b[0m \u001b[1;33m(\u001b[0m\u001b[1;32mTrue\u001b[0m\u001b[1;33m,\u001b[0m \u001b[0mfunc\u001b[0m\u001b[1;33m(\u001b[0m\u001b[1;33m*\u001b[0m\u001b[0margs\u001b[0m\u001b[1;33m,\u001b[0m \u001b[1;33m**\u001b[0m\u001b[0mkwds\u001b[0m\u001b[1;33m)\u001b[0m\u001b[1;33m)\u001b[0m\u001b[1;33m\u001b[0m\u001b[1;33m\u001b[0m\u001b[0m\n\u001b[0m\u001b[0;32m    126\u001b[0m         \u001b[1;32mexcept\u001b[0m \u001b[0mException\u001b[0m \u001b[1;32mas\u001b[0m \u001b[0me\u001b[0m\u001b[1;33m:\u001b[0m\u001b[1;33m\u001b[0m\u001b[1;33m\u001b[0m\u001b[0m\n\u001b[0;32m    127\u001b[0m             \u001b[1;32mif\u001b[0m \u001b[0mwrap_exception\u001b[0m \u001b[1;32mand\u001b[0m \u001b[0mfunc\u001b[0m \u001b[1;32mis\u001b[0m \u001b[1;32mnot\u001b[0m \u001b[0m_helper_reraises_exception\u001b[0m\u001b[1;33m:\u001b[0m\u001b[1;33m\u001b[0m\u001b[1;33m\u001b[0m\u001b[0m\n",
      "\u001b[1;32m~\\AppData\\Local\\Programs\\Python\\Python39\\lib\\multiprocessing\\pool.py\u001b[0m in \u001b[0;36mmapstar\u001b[1;34m(args)\u001b[0m\n\u001b[0;32m     46\u001b[0m \u001b[1;33m\u001b[0m\u001b[0m\n\u001b[0;32m     47\u001b[0m \u001b[1;32mdef\u001b[0m \u001b[0mmapstar\u001b[0m\u001b[1;33m(\u001b[0m\u001b[0margs\u001b[0m\u001b[1;33m)\u001b[0m\u001b[1;33m:\u001b[0m\u001b[1;33m\u001b[0m\u001b[1;33m\u001b[0m\u001b[0m\n\u001b[1;32m---> 48\u001b[1;33m     \u001b[1;32mreturn\u001b[0m \u001b[0mlist\u001b[0m\u001b[1;33m(\u001b[0m\u001b[0mmap\u001b[0m\u001b[1;33m(\u001b[0m\u001b[1;33m*\u001b[0m\u001b[0margs\u001b[0m\u001b[1;33m)\u001b[0m\u001b[1;33m)\u001b[0m\u001b[1;33m\u001b[0m\u001b[1;33m\u001b[0m\u001b[0m\n\u001b[0m\u001b[0;32m     49\u001b[0m \u001b[1;33m\u001b[0m\u001b[0m\n\u001b[0;32m     50\u001b[0m \u001b[1;32mdef\u001b[0m \u001b[0mstarmapstar\u001b[0m\u001b[1;33m(\u001b[0m\u001b[0margs\u001b[0m\u001b[1;33m)\u001b[0m\u001b[1;33m:\u001b[0m\u001b[1;33m\u001b[0m\u001b[1;33m\u001b[0m\u001b[0m\n",
      "\u001b[1;32m<ipython-input-7-530281a6b89c>\u001b[0m in \u001b[0;36mcalc\u001b[1;34m(row)\u001b[0m\n\u001b[0;32m      1\u001b[0m \u001b[1;32mdef\u001b[0m \u001b[0mcalc\u001b[0m\u001b[1;33m(\u001b[0m\u001b[0mrow\u001b[0m\u001b[1;33m)\u001b[0m\u001b[1;33m:\u001b[0m\u001b[1;33m\u001b[0m\u001b[1;33m\u001b[0m\u001b[0m\n\u001b[1;32m----> 2\u001b[1;33m     return [row['Datetime'],\n\u001b[0m\u001b[0;32m      3\u001b[0m     \u001b[0mafinn_score\u001b[0m\u001b[1;33m(\u001b[0m\u001b[0mrow\u001b[0m\u001b[1;33m[\u001b[0m\u001b[1;34m'full_text'\u001b[0m\u001b[1;33m]\u001b[0m\u001b[1;33m)\u001b[0m\u001b[1;33m,\u001b[0m\u001b[1;33m\u001b[0m\u001b[1;33m\u001b[0m\u001b[0m\n\u001b[0;32m      4\u001b[0m     \u001b[0mafinn\u001b[0m\u001b[1;33m.\u001b[0m\u001b[0mscore\u001b[0m\u001b[1;33m(\u001b[0m\u001b[0mrow\u001b[0m\u001b[1;33m[\u001b[0m\u001b[1;34m'full_text'\u001b[0m\u001b[1;33m]\u001b[0m\u001b[1;33m)\u001b[0m\u001b[1;33m,\u001b[0m\u001b[1;33m\u001b[0m\u001b[1;33m\u001b[0m\u001b[0m\n\u001b[0;32m      5\u001b[0m     \u001b[0mtext_valence\u001b[0m\u001b[1;33m(\u001b[0m\u001b[0mrow\u001b[0m\u001b[1;33m[\u001b[0m\u001b[1;34m'full_text'\u001b[0m\u001b[1;33m]\u001b[0m\u001b[1;33m)\u001b[0m\u001b[1;33m,\u001b[0m\u001b[1;33m\u001b[0m\u001b[1;33m\u001b[0m\u001b[0m\n",
      "\u001b[1;31mTypeError\u001b[0m: 'int' object is not subscriptable"
     ]
    }
   ],
   "source": [
    "def calc(row):\n",
    "    return [row['Datetime'],\n",
    "    afinn_score(row['full_text']),\n",
    "    afinn.score(row['full_text']),\n",
    "    text_valence(row['full_text']),\n",
    "    text_arousal(row['full_text']),\n",
    "    text_dminanc(row['full_text']),\n",
    "    text_valence(row['full_text'], agg=np.mean),\n",
    "    text_arousal(row['full_text'], agg=np.mean),\n",
    "    text_dminanc(row['full_text'], agg=np.mean)]\n",
    "\n",
    "from multiprocessing.dummy import Pool as ThreadPool\n",
    "pool = ThreadPool(8)\n",
    "\n",
    "counting = 0\n",
    "score = []\n",
    "for index, row in tweetDf.iterrows():\n",
    "    #print(row['full_text'], afinn.score(row['full_text']))\n",
    "    score = pool.map(calc, row)\n",
    "    counting+=1\n",
    "    if (counting % 1000 == 0): print(counting/len(tweetDf.index)*100, '%,', counting, '/', len(tweetDf.index))\n",
    "    if counting >= 10: break\n",
    "\n",
    "scoredf = pd.DataFrame(score, columns = ['date','AfinnSentiment','AfinnDefaultSentiment','NRCValence','NRCArousal','NRCValenceMean','NRCArousalMean'])"
   ]
  },
  {
   "cell_type": "code",
   "execution_count": 8,
   "metadata": {},
   "outputs": [
    {
     "output_type": "stream",
     "name": "stdout",
     "text": [
      "hey\n"
     ]
    }
   ],
   "source": [
    "def calc(row):\n",
    "    print(\"hey\")\n",
    "    return [row['Datetime'],\n",
    "    afinn_score(row['full_text']),\n",
    "    afinn.score(row['full_text']),\n",
    "    text_valence(row['full_text']),\n",
    "    text_arousal(row['full_text']),\n",
    "    text_valence(row['full_text'], agg=np.mean),\n",
    "    text_arousal(row['full_text'], agg=np.mean)]\n",
    "\n",
    "from multiprocessing.dummy import Pool as ThreadPool\n",
    "pool = ThreadPool(8)\n",
    "\n",
    "counting = 0\n",
    "score = []\n",
    "#print(row['full_text'], afinn.score(row['full_text']))\n",
    "score = pool.map(calc, tweetDf)\n",
    "\n",
    "scoredf = pd.DataFrame(score, columns = ['date','AfinnSentiment','AfinnDefaultSentiment','NRCValence','NRCArousal','NRCValenceMean','NRCArousalMean'])"
   ]
  },
  {
   "cell_type": "code",
   "execution_count": 71,
   "metadata": {},
   "outputs": [
    {
     "output_type": "execute_result",
     "data": {
      "text/plain": [
       "                         date  AfinnSentiment  AfinnDefaultSentiment  \\\n",
       "0   2020-04-06 17:22:41+00:00               2                    2.0   \n",
       "1   2020-03-24 07:57:44+00:00               5                    5.0   \n",
       "2   2019-10-20 06:20:39+00:00              -6                   -4.0   \n",
       "3   2020-04-16 18:32:49+00:00              -3                   -6.0   \n",
       "4   2020-03-09 00:03:08+00:00               0                    0.0   \n",
       "..                        ...             ...                    ...   \n",
       "95  2019-11-19 14:45:35+00:00               0                    0.0   \n",
       "96  2020-01-26 16:26:28+00:00              -5                   -4.0   \n",
       "97  2020-04-19 09:30:06+00:00              10                   15.0   \n",
       "98  2020-04-23 01:37:01+00:00               3                    5.0   \n",
       "99  2020-03-15 22:04:14+00:00               0                    0.0   \n",
       "\n",
       "    NRCValence  NRCArousal  NRCValenceMean  NRCArousalMean  \n",
       "0        4.739       4.000        0.225667        0.190476  \n",
       "1        4.758       3.277        0.093294        0.064255  \n",
       "2       12.256      12.685        0.211310        0.218707  \n",
       "3        2.463       2.712        0.102625        0.113000  \n",
       "4        7.596       5.430        0.180857        0.129286  \n",
       "..         ...         ...             ...             ...  \n",
       "95       5.857       6.153        0.216926        0.227889  \n",
       "96       9.099       8.651        0.216643        0.205976  \n",
       "97      11.859       7.656        0.263533        0.170133  \n",
       "98       8.366       7.847        0.157849        0.148057  \n",
       "99       2.464       2.245        0.154000        0.140313  \n",
       "\n",
       "[100 rows x 7 columns]"
      ],
      "text/html": "<div>\n<style scoped>\n    .dataframe tbody tr th:only-of-type {\n        vertical-align: middle;\n    }\n\n    .dataframe tbody tr th {\n        vertical-align: top;\n    }\n\n    .dataframe thead th {\n        text-align: right;\n    }\n</style>\n<table border=\"1\" class=\"dataframe\">\n  <thead>\n    <tr style=\"text-align: right;\">\n      <th></th>\n      <th>date</th>\n      <th>AfinnSentiment</th>\n      <th>AfinnDefaultSentiment</th>\n      <th>NRCValence</th>\n      <th>NRCArousal</th>\n      <th>NRCValenceMean</th>\n      <th>NRCArousalMean</th>\n    </tr>\n  </thead>\n  <tbody>\n    <tr>\n      <th>0</th>\n      <td>2020-04-06 17:22:41+00:00</td>\n      <td>2</td>\n      <td>2.0</td>\n      <td>4.739</td>\n      <td>4.000</td>\n      <td>0.225667</td>\n      <td>0.190476</td>\n    </tr>\n    <tr>\n      <th>1</th>\n      <td>2020-03-24 07:57:44+00:00</td>\n      <td>5</td>\n      <td>5.0</td>\n      <td>4.758</td>\n      <td>3.277</td>\n      <td>0.093294</td>\n      <td>0.064255</td>\n    </tr>\n    <tr>\n      <th>2</th>\n      <td>2019-10-20 06:20:39+00:00</td>\n      <td>-6</td>\n      <td>-4.0</td>\n      <td>12.256</td>\n      <td>12.685</td>\n      <td>0.211310</td>\n      <td>0.218707</td>\n    </tr>\n    <tr>\n      <th>3</th>\n      <td>2020-04-16 18:32:49+00:00</td>\n      <td>-3</td>\n      <td>-6.0</td>\n      <td>2.463</td>\n      <td>2.712</td>\n      <td>0.102625</td>\n      <td>0.113000</td>\n    </tr>\n    <tr>\n      <th>4</th>\n      <td>2020-03-09 00:03:08+00:00</td>\n      <td>0</td>\n      <td>0.0</td>\n      <td>7.596</td>\n      <td>5.430</td>\n      <td>0.180857</td>\n      <td>0.129286</td>\n    </tr>\n    <tr>\n      <th>...</th>\n      <td>...</td>\n      <td>...</td>\n      <td>...</td>\n      <td>...</td>\n      <td>...</td>\n      <td>...</td>\n      <td>...</td>\n    </tr>\n    <tr>\n      <th>95</th>\n      <td>2019-11-19 14:45:35+00:00</td>\n      <td>0</td>\n      <td>0.0</td>\n      <td>5.857</td>\n      <td>6.153</td>\n      <td>0.216926</td>\n      <td>0.227889</td>\n    </tr>\n    <tr>\n      <th>96</th>\n      <td>2020-01-26 16:26:28+00:00</td>\n      <td>-5</td>\n      <td>-4.0</td>\n      <td>9.099</td>\n      <td>8.651</td>\n      <td>0.216643</td>\n      <td>0.205976</td>\n    </tr>\n    <tr>\n      <th>97</th>\n      <td>2020-04-19 09:30:06+00:00</td>\n      <td>10</td>\n      <td>15.0</td>\n      <td>11.859</td>\n      <td>7.656</td>\n      <td>0.263533</td>\n      <td>0.170133</td>\n    </tr>\n    <tr>\n      <th>98</th>\n      <td>2020-04-23 01:37:01+00:00</td>\n      <td>3</td>\n      <td>5.0</td>\n      <td>8.366</td>\n      <td>7.847</td>\n      <td>0.157849</td>\n      <td>0.148057</td>\n    </tr>\n    <tr>\n      <th>99</th>\n      <td>2020-03-15 22:04:14+00:00</td>\n      <td>0</td>\n      <td>0.0</td>\n      <td>2.464</td>\n      <td>2.245</td>\n      <td>0.154000</td>\n      <td>0.140313</td>\n    </tr>\n  </tbody>\n</table>\n<p>100 rows × 7 columns</p>\n</div>"
     },
     "metadata": {},
     "execution_count": 71
    }
   ],
   "source": [
    "scoredf.to_csv(\"data/500000TweetsHydratedScored.tsv\",index = False,sep='\\t',line_terminator='\\r\\n')"
   ]
  },
  {
   "cell_type": "code",
   "execution_count": null,
   "metadata": {},
   "outputs": [],
   "source": [
    "def wordList(tText):\n",
    "    \n",
    "    doc = nlp(tText)\n",
    "    ### TOKENIZING ###\n",
    "    ### REMOVING STOP WORDS ###\n",
    "    wList = [token for token in doc if not token.is_stop]\n",
    "    ### NORMALIZING ###\n",
    "        ### STEMMING ###\n",
    "        ### LEMMATIZATION ###\n",
    "    wList = [token.lemma_ for token in wList]\n",
    "    ### REMOVE PUNCTUATION ###\n",
    "    punctuations=\"?:!.,;\"\n",
    "    for word in wList:\n",
    "        if word in punctuations:\n",
    "            wList.remove(word)\n",
    "    ### POS filtering ###\n",
    "    \n",
    "    #wString = \"\"\n",
    "    #for each in wList:\n",
    "    #    wString += each + \" \"\n",
    "    return wList"
   ]
  },
  {
   "cell_type": "code",
   "execution_count": null,
   "metadata": {},
   "outputs": [],
   "source": []
  }
 ]
}